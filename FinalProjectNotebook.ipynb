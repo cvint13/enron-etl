{
 "cells": [
  {
   "cell_type": "markdown",
   "metadata": {},
   "source": [
    "# BU MET CS 779 Final Project Notebook"
   ]
  },
  {
   "cell_type": "markdown",
   "metadata": {},
   "source": [
    "## Enron Emails: Processing Text Files to Create a Useful Analytical Tool"
   ]
  },
  {
   "cell_type": "markdown",
   "metadata": {},
   "source": [
    "#### Cynthia Vint"
   ]
  },
  {
   "cell_type": "markdown",
   "metadata": {},
   "source": [
    "This Jupyter notebook contains the code written and used for the data preprocessing of the Enron emails, publicly available at this [link](https://www.cs.cmu.edu/~./enron/). The steps required to preprocess and insert the data were exclusively performed using the below code, excluding the SQL executed in Oracle's SQL Developer client to create the tables. That being said, the tables could have also been created using the cx_Oracle module in Python with a connection to the image.\n",
    "\n"
   ]
  },
  {
   "cell_type": "code",
   "execution_count": 1,
   "metadata": {
    "collapsed": false
   },
   "outputs": [
    {
     "name": "stdout",
     "output_type": "stream",
     "text": [
      "/Users/cynthia.vint/Desktop/BU MET CS 779\n"
     ]
    }
   ],
   "source": [
    "cd /Users/cynthia.vint/Desktop/BU\\ MET\\ CS\\ 779"
   ]
  },
  {
   "cell_type": "code",
   "execution_count": 2,
   "metadata": {
    "collapsed": false
   },
   "outputs": [
    {
     "name": "stdout",
     "output_type": "stream",
     "text": [
      "/Users/cynthia.vint/Desktop/BU MET CS 779/final_project\n"
     ]
    }
   ],
   "source": [
    "cd final_project"
   ]
  },
  {
   "cell_type": "markdown",
   "metadata": {},
   "source": [
    "# Step 1: Convert File System to Dictionary"
   ]
  },
  {
   "cell_type": "code",
   "execution_count": 3,
   "metadata": {
    "collapsed": false
   },
   "outputs": [],
   "source": [
    "'''\n",
    "Source: http://code.activestate.com/recipes/577879-create-a-nested-dictionary-from-oswalk/\n",
    "'''\n",
    "\n",
    "import os\n",
    "import functools\n",
    "\n",
    "def get_directory_structure(rootdir):\n",
    "    \"\"\"\n",
    "    Creates a nested dictionary that represents the folder structure of rootdir\n",
    "    \"\"\"\n",
    "    dir = {}\n",
    "    rootdir = rootdir.rstrip(os.sep)\n",
    "    start = rootdir.rfind(os.sep) + 1\n",
    "    for path, dirs, files in os.walk(rootdir):\n",
    "        folders = path[start:].split(os.sep)\n",
    "        subdir = dict.fromkeys(files)\n",
    "        parent = functools.reduce(dict.get, folders[:-1], dir)\n",
    "        parent[folders[-1]] = subdir\n",
    "    return dir\n"
   ]
  },
  {
   "cell_type": "code",
   "execution_count": 4,
   "metadata": {
    "collapsed": false
   },
   "outputs": [],
   "source": [
    "enron_dict = get_directory_structure('maildir')"
   ]
  },
  {
   "cell_type": "code",
   "execution_count": 5,
   "metadata": {
    "collapsed": false
   },
   "outputs": [],
   "source": [
    "def fetch_text(path_dict, path=''):\n",
    "    for key in path_dict.keys():\n",
    "        if type(path_dict[key]) == dict:\n",
    "            if path == '':\n",
    "                this_path = key\n",
    "            else:\n",
    "                this_path = path + '/' + key\n",
    "            fetch_text(path_dict[key],this_path)\n",
    "            \n",
    "        else:\n",
    "            if path_dict[key] is None:\n",
    "                if path == '':\n",
    "                    this_path = key\n",
    "                else:\n",
    "                    this_path = path + '/' + key\n",
    "                with open(os.path.join(os.getcwd(),this_path),encoding='ascii',errors='ignore') as f:\n",
    "                    content = f.readlines()\n",
    "                content = [x.strip() for x in content] \n",
    "                path_dict[key] = content\n",
    "                "
   ]
  },
  {
   "cell_type": "code",
   "execution_count": 6,
   "metadata": {
    "collapsed": false
   },
   "outputs": [],
   "source": [
    "fetch_text(enron_dict)"
   ]
  },
  {
   "cell_type": "code",
   "execution_count": 7,
   "metadata": {
    "collapsed": false
   },
   "outputs": [
    {
     "data": {
      "text/plain": [
       "['Message-ID: <19824315.1075851942322.JavaMail.evans@thyme>',\n",
       " 'Date: Wed, 14 Feb 2001 06:27:00 -0800 (PST)',\n",
       " 'From: dustin.collins@enron.com',\n",
       " 'To: grampus@sunbeach.net',\n",
       " 'Subject: Re: 2001 reconcilation',\n",
       " 'Cc: dustin.collins@enron.com, todd.peterson@enron.com, radamiak@cabotlng.com,',\n",
       " 'jmichalek@cabotlng.com, dan.masters@enron.com,',\n",
       " \"paul.y'barbo@enron.com\",\n",
       " 'Mime-Version: 1.0',\n",
       " 'Content-Type: text/plain; charset=us-ascii',\n",
       " 'Content-Transfer-Encoding: 7bit',\n",
       " 'Bcc: dustin.collins@enron.com, todd.peterson@enron.com, radamiak@cabotlng.com,',\n",
       " 'jmichalek@cabotlng.com, dan.masters@enron.com,',\n",
       " \"paul.y'barbo@enron.com\",\n",
       " 'X-From: Dustin Collins',\n",
       " 'X-To: \"Chris Skinner\" <grampus@sunbeach.net> @ ENRON',\n",
       " 'X-cc: <dustin.collins@enron.com>@ENRON, \"Todd. Peterson\" <Todd.Peterson@enron.com>@ENRON, \"Rudy Adamiak\" <radamiak@cabotlng.com>@ENRON, \"Jane Michalek\" <jmichalek@cabotlng.com>@ENRON, Dan Masters, Paul Y\\'Barbo',\n",
       " 'X-bcc:',\n",
       " 'X-Folder: \\\\Paul_Ybarbo_Nov2001\\\\Notes Folders\\\\Cabot',\n",
       " 'X-Origin: YBARBO-P',\n",
       " 'X-FileName: pybarbo.nsf',\n",
       " '',\n",
       " 'Chris,',\n",
       " '',\n",
       " 'I have reviewed your reconciliation spreadsheet and have discovered a',\n",
       " 'discrepapancy  regarding the \"Matthew\" delivery on September 14, 2000.  It',\n",
       " 'appears that a volume, other than the discharge volume, is being applied to',\n",
       " 'calculate the average heating value.  My calculations show that the average',\n",
       " 'heating value for this Setpember 14 delivery should be 22.47, as opposed to',\n",
       " '22.61.',\n",
       " '',\n",
       " 'Despite this one discrepancy, we match perfectly.',\n",
       " '',\n",
       " 'I have attached my reconciliation spreadsheet below for your convenience.   I',\n",
       " 'show that Cabot owes EcoElectrica $209,472.88.',\n",
       " '',\n",
       " 'Please review and let me know if you are in agreement.',\n",
       " '',\n",
       " 'Regards,',\n",
       " '',\n",
       " 'Dustin Collins',\n",
       " '',\n",
       " '',\n",
       " '',\n",
       " '',\n",
       " '',\n",
       " '',\n",
       " '',\n",
       " '',\n",
       " '',\n",
       " '\"Chris Skinner\" <grampus@sunbeach.net> on 02/13/2001 03:04:52 PM',\n",
       " 'To: <dustin.collins@enron.com>, \"Todd. Peterson\" <Todd.Peterson@enron.com>',\n",
       " 'cc: \"Rudy Adamiak\" <radamiak@cabotlng.com>, \"Jane Michalek\"',\n",
       " '<jmichalek@cabotlng.com>',\n",
       " 'Subject: 2001 reconcilation',\n",
       " '',\n",
       " '',\n",
       " 'Todd',\n",
       " 'Attached herewith is the 2001 reconciliation which is in draft.',\n",
       " '',\n",
       " 'Please review and let me have your comments',\n",
       " 'Best regards',\n",
       " 'Chris Skinner',\n",
       " 'General manger',\n",
       " 'Cabot Trading LNG',\n",
       " '',\n",
       " '',\n",
       " '- 2001 Annual Reconciliation.xls',\n",
       " '']"
      ]
     },
     "execution_count": 7,
     "metadata": {},
     "output_type": "execute_result"
    }
   ],
   "source": [
    "enron_dict['maildir']['ybarbo-p']['cabot']['1.']"
   ]
  },
  {
   "cell_type": "markdown",
   "metadata": {},
   "source": [
    "# Step 2: Create Email Objects from Text"
   ]
  },
  {
   "cell_type": "code",
   "execution_count": 8,
   "metadata": {
    "collapsed": false
   },
   "outputs": [],
   "source": [
    "class Email:\n",
    "    \n",
    "    #define email\n",
    "    def __init__(self,date=None,\n",
    "                from_address=None,\n",
    "                to_address=None,\n",
    "                body=None,\n",
    "                subject=None,\n",
    "                from_person=None,\n",
    "                to_people=None,\n",
    "                name = None):      #this will be an array of people\n",
    "        \n",
    "        self.date = date\n",
    "        self.from_address = from_address\n",
    "        self.to_address = to_address\n",
    "        self.body = body\n",
    "        self.subject = subject\n",
    "        self.from_person = from_person\n",
    "        self.to_person = to_people\n",
    "        self.name = name\n",
    "        \n",
    "class Person:\n",
    "    \n",
    "    #define person\n",
    "    def __init__(self,handle,\n",
    "                folders,email=None,\n",
    "                first_name=None,\n",
    "                last_name=None):     #this will be an array of folders, each folder contains 1 or more emails.\n",
    "        \n",
    "        self.handle = handle\n",
    "        self.email = email\n",
    "        self.folders = folders\n",
    "        self.first_name = first_name\n",
    "        self.last_name = last_name\n",
    "        \n",
    "    def get_folder(self,folder_name):\n",
    "        \n",
    "        for folder in self.folders:\n",
    "            if folder_name == folder.get_name():\n",
    "                return folder\n",
    "            \n",
    "        return None\n",
    "    \n",
    "    def set_first_name(self,first_name_input):\n",
    "        self.first_name = first_name_input\n",
    "        \n",
    "    def set_last_name(self,last_name_input):\n",
    "        self.last_name = last_name_input\n",
    "        \n",
    "class Folder:\n",
    "    \n",
    "    def __init__(self,folder_name,\n",
    "                items=None):\n",
    "        self.folder_name = folder_name\n",
    "        self.items = items\n",
    "        \n",
    "    def get_name(self):\n",
    "        return self.folder_name\n",
    "    \n",
    "    def get_items(self):\n",
    "        return self.items\n",
    "    \n",
    "    def add_item(self,new_item):\n",
    "        self.items.append(new_item)"
   ]
  },
  {
   "cell_type": "code",
   "execution_count": 9,
   "metadata": {
    "collapsed": true
   },
   "outputs": [],
   "source": [
    "enron_dict_inner = enron_dict['maildir']"
   ]
  },
  {
   "cell_type": "code",
   "execution_count": 10,
   "metadata": {
    "collapsed": false
   },
   "outputs": [
    {
     "data": {
      "text/plain": [
       "dict_keys(['stokley-c', 'lokay-m', 'ward-k', 'scott-s', 'pereira-s', 'stclair-c', 'rodrique-r', 'slinger-r', 'may-l', 'swerzbin-m', 'cash-m', 'sturm-f', 'arora-h', 'hyatt-k', 'crandell-s', 'mcconnell-m', 'staab-t', 'kitchen-l', 'badeer-r', 'kuykendall-t', 'lokey-t', 'lucci-p', 'horton-s', 'tholt-j', 'dorland-c', 'allen-p', 'storey-g', 'grigsby-m', 'keavey-p', 'king-j', 'sanchez-m', 'thomas-p', 'gang-l', 'harris-s', 'taylor-m', 'gay-r', 'bailey-s', 'williams-w3', 'perlingiere-d', 'whalley-g', 'shively-h', 'sager-e', 'panus-s', 'schwieger-j', 'weldon-c', 'kaminski-v', 'delainey-d', 'lavorato-j', 'mann-k', 'sanders-r', 'cuilla-m', 'forney-j', 'derrick-j', 'dickson-s', 'stepenovitch-j', 'ermis-f', 'presto-k', 'arnold-j', 'linder-e', 'smith-m', 'scholtes-d', 'hodge-j', 'salisbury-h', 'solberg-g', 'keiser-k', 'farmer-d', 'love-p', 'germany-c', 'lay-k', 'heard-m', 'ring-a', 'bass-e', 'shankman-j', 'ring-r', 'campbell-l', 'dean-c', 'ruscitti-k', 'meyers-a', 'beck-s', 'guzman-m', 'rogers-b', 'carson-m', 'causholli-m', 'giron-d', 'gilbertsmith-d', 'mckay-j', 'maggi-m', 'rapp-b', 'benson-r', 'zipper-a', 'reitmeyer-j', 'tycholiz-b', 'buy-r', 'geaccone-t', 'brawner-s', 'hayslett-r', 'kean-s', 'griffith-j', 'whitt-m', 'white-s', 'watson-k', 'steffes-j', 'donoho-l', 'lewis-a', 'platter-p', 'quigley-d', 'motley-m', 'richey-c', 'corman-s', 'skilling-j', 'semperger-c', 'neal-s', 'phanis-s', 'baughman-d', 'wolfe-j', 'quenet-j', 'lenhart-m', 'mclaughlin-e', 'blair-l', 'fossum-d', 'south-s', 'hernandez-j', 'saibi-e', 'hyvl-d', 'zufferli-j', 'whalley-l', 'martin-t', 'holst-k', 'fischer-m', 'schoolcraft-d', 'merriss-s', 'hain-m', 'mccarty-d', 'pimenov-v', 'symes-k', 'nemec-g', 'hendrickson-s', 'mckay-b', 'parks-j', 'donohoe-t', 'haedicke-m', '.DS_Store', 'jones-t', 'dasovich-j', 'davis-d', 'williams-j', 'mims-thurston-p', 'shackleton-s', 'shapiro-r', 'townsend-j', 'ybarbo-p'])"
      ]
     },
     "execution_count": 10,
     "metadata": {},
     "output_type": "execute_result"
    }
   ],
   "source": [
    "enron_dict_inner.keys()"
   ]
  },
  {
   "cell_type": "code",
   "execution_count": 11,
   "metadata": {
    "collapsed": false
   },
   "outputs": [],
   "source": [
    "'''\n",
    "level 1: keys = handles for new people\n",
    "level 2: keys = folder names for the sets of folders for people\n",
    "level 3: keys = file names; items = text in the form of string lists\n",
    "\n",
    "'X-FileName: GNEMEC (Non-Privileged).pst' : beginning of body\n",
    "'-----Original Message-----' : end of body\n",
    "'''\n",
    "import re\n",
    "\n",
    "def process_emails(email_dict,level=1):\n",
    "    if level == 1:\n",
    "        people = []\n",
    "        for key in email_dict.keys():\n",
    "            email_person = Person(handle=str(key),folders=process_emails(email_dict[key],level=2))\n",
    "            people.append(email_person)\n",
    "            \n",
    "    elif level == 2:\n",
    "        folders = []\n",
    "        try:\n",
    "            for key in email_dict.keys():\n",
    "                email_folder = Folder(folder_name=str(key),items=process_emails(email_dict[key],level=3))\n",
    "                folders.append(email_folder)\n",
    "            return folders\n",
    "        except AttributeError:\n",
    "            #print(email_dict)\n",
    "            return None\n",
    "            \n",
    "    elif level == 3:\n",
    "        emails = []\n",
    "        try:\n",
    "            for key in email_dict.keys():\n",
    "            \n",
    "                email_data = email_dict[key]\n",
    "                name = key\n",
    "                date = None\n",
    "                from_add = None\n",
    "                to_add = None\n",
    "                body = ''\n",
    "                subject = None\n",
    "                body_scan = False\n",
    "\n",
    "                for datum in email_data:\n",
    "                    if 'Date:' in datum and date is None:\n",
    "                        datum = datum[5:].strip()\n",
    "                        date = datum\n",
    "\n",
    "                    elif 'From:' in datum and from_add is None:\n",
    "                        datum = datum[5:].strip()\n",
    "                        from_add = datum\n",
    "\n",
    "                    elif 'To:' in datum and to_add is None:\n",
    "                        datum = datum[3:].strip()\n",
    "                        to_add = datum\n",
    "\n",
    "                    elif 'Subject:' in datum and subject is None:\n",
    "                        subject = datum[8:].strip()\n",
    "\n",
    "                    elif 'X-FileName' in datum:\n",
    "                        body_scan = True\n",
    "\n",
    "                    elif body_scan:\n",
    "                        \n",
    "                        if re.match(r'^\\\\\"', datum):\n",
    "                            body_scan = False\n",
    "                        \n",
    "                        elif datum:\n",
    "                            body = body + ' ' + datum\n",
    "                        \n",
    "                            \n",
    "\n",
    "\n",
    "                email = Email(date=date,from_address=from_add,\n",
    "                             to_address=to_add,body=body,subject=subject, name=name)\n",
    "                emails.append(email)\n",
    "            return emails\n",
    "        \n",
    "        except AttributeError:\n",
    "            #print(email_dict)\n",
    "            return None\n",
    "            \n",
    "    return people"
   ]
  },
  {
   "cell_type": "code",
   "execution_count": 12,
   "metadata": {
    "collapsed": false
   },
   "outputs": [],
   "source": [
    "processed_data = process_emails(enron_dict_inner)"
   ]
  },
  {
   "cell_type": "code",
   "execution_count": 13,
   "metadata": {
    "collapsed": false
   },
   "outputs": [
    {
     "data": {
      "text/plain": [
       "<__main__.Person at 0x1c6611b70>"
      ]
     },
     "execution_count": 13,
     "metadata": {},
     "output_type": "execute_result"
    }
   ],
   "source": [
    "processed_data[0]"
   ]
  },
  {
   "cell_type": "code",
   "execution_count": 14,
   "metadata": {
    "collapsed": false
   },
   "outputs": [
    {
     "data": {
      "text/plain": [
       "151"
      ]
     },
     "execution_count": 14,
     "metadata": {},
     "output_type": "execute_result"
    }
   ],
   "source": [
    "len(processed_data)"
   ]
  },
  {
   "cell_type": "code",
   "execution_count": 15,
   "metadata": {
    "collapsed": false
   },
   "outputs": [
    {
     "data": {
      "text/plain": [
       "' Kim, Please disregard previous draft for C of Glendale,  this is a corrected draft. Debra Perlingiere Enron North America Corp. Legal Department 1400 Smith Street, EB 3885 Houston, Texas 77002 dperlin@enron.com Phone 713-853-7658 Fax  713-646-3490 ----- Forwarded by Debra Perlingiere/HOU/ECT on 03/29/2001 04:42 PM ----- Dan J Hyvl 03/29/2001 08:14 AM To: Debra Perlingiere/HOU/ECT@ECT cc: Subject: City of Glendale Debra, I had a type in the definition of Material Adverse Change.  Please resend if necessary.'"
      ]
     },
     "execution_count": 15,
     "metadata": {},
     "output_type": "execute_result"
    }
   ],
   "source": [
    "processed_data[2].folders[1].get_items()[0].body"
   ]
  },
  {
   "cell_type": "markdown",
   "metadata": {},
   "source": [
    "# Custom Solution to Insert into Database"
   ]
  },
  {
   "cell_type": "markdown",
   "metadata": {},
   "source": [
    "On the database end (not within the scope of this notebook), I had to create a schema that matched the schema, if you will, of the Python dictionary. The SQL DDL code was run as seen below:\n",
    "\n",
    "```\n",
    "CREATE TABLE PERSON (\n",
    "  HANDLE VARCHAR(20) PRIMARY KEY,\n",
    "  EMAIL_ADDRESS VARCHAR(40),\n",
    "  FIRST_NAME VARCHAR(40),\n",
    "  LAST_NAME VARCHAR(40)\n",
    ");\n",
    "\n",
    "CREATE TABLE FOLDER (\n",
    "  PERSON_HANDLE VARCHAR(20) REFERENCES PERSON(HANDLE),\n",
    "  FOLDER_NAME VARCHAR(100),\n",
    "  FOLDER_ID NUMBER PRIMARY KEY\n",
    ");\n",
    "\n",
    "CREATE SEQUENCE FOLDER_SEQ\n",
    "START WITH 1;\n",
    "\n",
    "CREATE OR REPLACE TRIGGER FOLDER_TRIGGER \n",
    "BEFORE INSERT ON FOLDER \n",
    "FOR EACH ROW\n",
    "\n",
    "BEGIN\n",
    "  SELECT FOLDER_SEQ.NEXTVAL\n",
    "  INTO   :NEW.FOLDER_ID\n",
    "  FROM   DUAL;\n",
    "END;\n",
    "/\n",
    "\n",
    "CREATE TABLE EMAIL (\n",
    "  EMAIL_NAME VARCHAR(50),\n",
    "  EMAIL_SUBJECT CLOB,\n",
    "  EMAIL_BODY CLOB,\n",
    "  TO_ADDRESS_LIST CLOB,\n",
    "  FROM_ADDRESS VARCHAR(4000),\n",
    "  DATE_SENT DATE,\n",
    "  FOLDER_ID NUMBER REFERENCES FOLDER(FOLDER_ID),\n",
    "  EMAIL_ID NUMBER PRIMARY KEY\n",
    ");\n",
    "\n",
    "CREATE SEQUENCE EMAIL_SEQ\n",
    "START WITH 1;\n",
    "\n",
    "CREATE OR REPLACE TRIGGER EMAIL_TRIGGER \n",
    "BEFORE INSERT ON EMAIL \n",
    "FOR EACH ROW\n",
    "\n",
    "BEGIN\n",
    "  SELECT EMAIL_SEQ.NEXTVAL\n",
    "  INTO   :NEW.EMAIL_ID\n",
    "  FROM   DUAL;\n",
    "END;\n",
    "/\n",
    "\n",
    "```\n",
    "\n",
    "Now that it has been created, we can add data to the database from the Python Dictionary. I know that some of the above schema is redundant, and I will definitely look into continually improving it for future use. "
   ]
  },
  {
   "cell_type": "code",
   "execution_count": 1,
   "metadata": {
    "collapsed": false
   },
   "outputs": [],
   "source": [
    "import cx_Oracle\n",
    "\n",
    "dsn = cx_Oracle.makedsn('localhost', 32771, 'xe')\n",
    "con = cx_Oracle.connect('system', 'oracle', dsn)"
   ]
  },
  {
   "cell_type": "code",
   "execution_count": 2,
   "metadata": {
    "collapsed": true
   },
   "outputs": [],
   "source": [
    "curs = con.cursor()"
   ]
  },
  {
   "cell_type": "code",
   "execution_count": null,
   "metadata": {
    "collapsed": true
   },
   "outputs": [],
   "source": [
    "#If you need to start over\n",
    "curs.execute('DELETE FROM EMAIL')"
   ]
  },
  {
   "cell_type": "code",
   "execution_count": null,
   "metadata": {
    "collapsed": true
   },
   "outputs": [],
   "source": [
    "curs.execute('DELETE FROM FOLDER')"
   ]
  },
  {
   "cell_type": "code",
   "execution_count": null,
   "metadata": {
    "collapsed": true
   },
   "outputs": [],
   "source": [
    "curs.execute('DELETE FROM PERSON')"
   ]
  },
  {
   "cell_type": "code",
   "execution_count": null,
   "metadata": {
    "collapsed": true
   },
   "outputs": [],
   "source": [
    "#rollback if you change your mind\n",
    "con.rollback()"
   ]
  },
  {
   "cell_type": "code",
   "execution_count": 21,
   "metadata": {
    "collapsed": false
   },
   "outputs": [
    {
     "data": {
      "text/plain": [
       "['allen-p', 'arnold-j', 'arora-h', 'badeer-r', 'bailey-s']"
      ]
     },
     "execution_count": 21,
     "metadata": {},
     "output_type": "execute_result"
    }
   ],
   "source": [
    "curs.execute('SELECT handle from person')\n",
    "data = curs.fetchall()\n",
    "handles_added = [datum[0] for datum in data]\n",
    "handles_added[:5]"
   ]
  },
  {
   "cell_type": "code",
   "execution_count": 22,
   "metadata": {
    "collapsed": false,
    "scrolled": true
   },
   "outputs": [
    {
     "name": "stdout",
     "output_type": "stream",
     "text": [
      "elizabeth.linnell@enron.com\n",
      "john.griffith@enron.com\n",
      "mark.whitt@enron.com\n",
      "zionette.vincent@enron.com\n",
      "kimberly.watson@enron.com\n",
      "d..steffes@enron.com\n",
      "lindy.donoho@enron.com\n",
      "andrew.lewis@enron.com\n",
      "phillip.platter@enron.com\n",
      "dutch.quigley@enron.com\n",
      "matt.motley@enron.com\n",
      "cooper.richey@enron.com\n",
      "shelley.corman@enron.com\n",
      "sherri.sera@enron.com\n",
      "cara.semperger@enron.com\n",
      "scott.neal@enron.com\n",
      "stephanie.panus@enron.com\n",
      "don.baughman@enron.com\n",
      "jason.wolfe@enron.com\n",
      "joe.quenet@enron.com\n",
      "matthew.lenhart@enron.com\n",
      "errol.mclaughlin@enron.com\n",
      "lynn.blair@enron.com\n",
      "drew.fossum@enron.com\n",
      "steven.south@enron.com\n",
      "judy.hernandez@enron.com\n",
      "eric.saibi@enron.com\n",
      "dan.hyvl@enron.com\n",
      "john.zufferli@enron.com\n",
      "liz.taylor@enron.com\n",
      "thomas.martin@enron.com\n",
      "keith.holst@enron.com\n",
      "mark.fisher@enron.com\n",
      "darrell.schoolcraft@enron.com\n",
      "steven.merris@enron.com\n",
      "lysa.akin@enron.com\n",
      "danny.mccarty@enron.com\n",
      "vladi.pimenov@enron.com\n",
      "kate.symes@enron.com\n",
      "gerald.nemec@enron.com\n",
      "scott.hendrickson@enron.com\n",
      "brad.mckay@enron.com\n",
      "joe.parks@enron.com\n",
      "tom.donohoe@enron.com\n",
      "mark.haedicke@enron.com\n",
      "tana.jones@enron.com\n",
      "jeff.dasovich@enron.com\n",
      "dana.davis@enron.com\n",
      "trading <.williams@enron.com>\n",
      "patrice.mims@enron.com\n",
      "sara.shackleton@enron.com\n",
      "james.steffes@enron.com\n",
      "judy.townsend@enron.com\n",
      "paul.y_barbo@enron.com\n"
     ]
    }
   ],
   "source": [
    "'''\n",
    "Insert all of the people\n",
    "note: date format: Tue, 16 Jan 2001 16:18:00 -0800 (PST)\n",
    "'''\n",
    "\n",
    "import re\n",
    "from cx_Oracle import DatabaseError\n",
    "\n",
    "# insert all of the data\n",
    "for item in processed_data:\n",
    "    \n",
    "    if item.handle not in handles_added:\n",
    "        #find person's email address\n",
    "        if item.folders:\n",
    "            email_add = ''\n",
    "            for folder in item.folders:\n",
    "\n",
    "                if 'sent' in folder.get_name():\n",
    "                    email_add = folder.get_items()[0].from_address\n",
    "                    email_add = re.sub('\\'', '_',email_add)\n",
    "                    print(email_add)\n",
    "                    if email_add:\n",
    "                        string = 'INSERT INTO PERSON (HANDLE, EMAIL_ADDRESS) VALUES (\\''+item.handle+ '\\', \\'' + email_add + '\\')'\n",
    "                        curs.execute(string)\n",
    "                        break\n",
    "\n",
    "            if not email_add:\n",
    "                string = 'INSERT INTO PERSON (HANDLE) VALUES (\\''+item.handle+ '\\')'\n",
    "                curs.execute(string)\n",
    "            \n",
    "            handles_added.append(item.handle)\n",
    "\n",
    "            for folder in item.folders:\n",
    "\n",
    "                string = 'INSERT INTO FOLDER (PERSON_HANDLE, FOLDER_NAME) VALUES (\\'' + item.handle + '\\',\\'' +\\\n",
    "                folder.get_name() + '\\')'\n",
    "                curs.execute(string)\n",
    "\n",
    "                if folder.get_items():\n",
    "                    for email in folder.get_items():\n",
    "\n",
    "                        #EMAIL_NAME VARCHAR(30),\n",
    "                        #EMAIL_SUBJECT VARCHAR(500),\n",
    "                        #EMAIL_BODY VARCHAR(2000),\n",
    "                        #TO_ADDRESS_LIST VARCHAR(100),\n",
    "                        #FROM_ADDRESS VARCHAR(100),\n",
    "                        #DATE_SENT DATE\n",
    "                        string = ''\n",
    "\n",
    "                        if '\\'' in email.body:\n",
    "                            email.body = re.sub('\\'', ' ', email.body)\n",
    "\n",
    "                        if email.subject is None:\n",
    "                            email.subject= 'No Subject'\n",
    "                        elif '\\'' in email.subject:\n",
    "                            email.subject = re.sub('\\'', ' ', email.subject)\n",
    "\n",
    "                        if email.to_address is None:\n",
    "                            email.to_addres = 'No to address'\n",
    "                        elif '\\'' in email.to_address:\n",
    "                            email.to_address = re.sub('\\'', ' ', email.to_address)\n",
    "\n",
    "                        if email.from_address is None:\n",
    "                            email.from_addres = 'No from address'\n",
    "                        elif '\\'' in email.from_address:\n",
    "                            email.from_address = re.sub('\\'', ' ', email.from_address)\n",
    "\n",
    "                        #print(len(email.body), '\\n')\n",
    "\n",
    "                        body_short = email.body[:4000]\n",
    "                        subject_short = email.subject[:4000]\n",
    "                        if email.to_address:\n",
    "                            to_short = email.to_address[:4000]\n",
    "                        else:\n",
    "                            to_short = 'No to address'\n",
    "                        if email.from_address:\n",
    "                            from_short = email.from_address[:4000]\n",
    "                        else:\n",
    "                            from_short = 'No from address'\n",
    "\n",
    "                        if email.date:\n",
    "                            email_date = re.sub('\\-0\\d00 ', '',email.date.strip())\n",
    "                            try:\n",
    "                                string = 'INSERT INTO EMAIL ( EMAIL_SUBJECT, EMAIL_NAME, \\\n",
    "                                EMAIL_BODY, TO_ADDRESS_LIST, FROM_ADDRESS, DATE_SENT, FOLDER_ID)\\\n",
    "                                VALUES (\\'' + str(subject_short) + '\\', \\'' + email.name + '\\', \\'' + str(body_short) + '\\', \\\n",
    "                                \\'' + str(to_short)+ '\\', \\'' + str(from_short) + '\\', \\\n",
    "                                TO_TIMESTAMP_TZ(\\'' + str(email_date) + '\\',\\'DY, DD MON YYYY HH24:MI:SS (TZD)\\'),\\\n",
    "                                (SELECT FOLDER_ID FROM FOLDER WHERE FOLDER_NAME = \\'' + str(folder.get_name()) + '\\' \\\n",
    "                                AND PERSON_HANDLE = \\'' + str(item.handle) + '\\'))'\n",
    "                                curs.execute(string)\n",
    "                                #print('date captured')\n",
    "\n",
    "                            except DatabaseError:\n",
    "                                string = 'INSERT INTO EMAIL ( EMAIL_SUBJECT, EMAIL_NAME, \\\n",
    "                                EMAIL_BODY, TO_ADDRESS_LIST, FROM_ADDRESS, FOLDER_ID)\\\n",
    "                                VALUES (\\'' + str(subject_short) + '\\', \\'' + email.name + '\\',\\'' + str(body_short) + '\\', \\\n",
    "                                \\'' + str(to_short) + '\\', \\'' + str(from_short) + '\\',\\\n",
    "                                (SELECT FOLDER_ID FROM FOLDER WHERE FOLDER_NAME = \\'' + str(folder.get_name()) + '\\'\\\n",
    "                                AND PERSON_HANDLE = \\'' + str(item.handle) + '\\'))'\n",
    "                                curs.execute(string)\n",
    "\n",
    "                        else:\n",
    "                            string = 'INSERT INTO EMAIL ( EMAIL_SUBJECT, EMAIL_NAME,\\\n",
    "                            EMAIL_BODY, TO_ADDRESS_LIST, FROM_ADDRESS, FOLDER_ID)\\\n",
    "                            VALUES (\\'' + str(subject_short) + '\\', \\'' + email.name + '\\',\\'' + str(body_short) + '\\', \\\n",
    "                            \\'' + str(to_short) + '\\', \\'' + str(from_short) + '\\', \\\n",
    "                            (SELECT FOLDER_ID FROM FOLDER WHERE FOLDER_NAME = \\'' + str(folder.get_name()) + '\\'\\\n",
    "                            AND PERSON_HANDLE = \\'' + str(item.handle) + '\\'))'\n",
    "\n",
    "                            curs.execute(string)\n",
    "\n",
    "        #print(string)\n"
   ]
  },
  {
   "cell_type": "code",
   "execution_count": null,
   "metadata": {
    "collapsed": false,
    "scrolled": true
   },
   "outputs": [
    {
     "name": "stdout",
     "output_type": "stream",
     "text": [
      "Wed, 6 Jun 2001 02:38:00 (PDT)\n"
     ]
    }
   ],
   "source": [
    "# isloate the dates and insert\n",
    "count = 0\n",
    "for person in processed_data:\n",
    "    \n",
    "    if person.folders:\n",
    "        for folder in person.folders:\n",
    "        \n",
    "            if folder.get_items():\n",
    "                for email in folder.get_items():\n",
    "            \n",
    "                    if email.date:\n",
    "                        \n",
    "                        email_no_offset = re.sub('\\-0\\d00 ', '',email.date)\n",
    "                        if count % 10000 == 0:\n",
    "                            print(email_no_offset)\n",
    "                            \n",
    "                        curs.execute('UPDATE EMAIL SET DATE_SENT = \\\n",
    "                        TO_TIMESTAMP_TZ(\\'' + email_no_offset + '\\',\\'DY, DD MON YYYY HH24:MI:SS (TZD) \\')\\\n",
    "                        WHERE FOLDER_ID = (SELECT FOLDER_ID FROM FOLDER WHERE PERSON_HANDLE = \\'' + person.handle+ '\\') AND \\\n",
    "                        EMAIL.EMAIL_NAME = \\'' + email.)')\n",
    "            \n",
    "                    count += 1"
   ]
  },
  {
   "cell_type": "markdown",
   "metadata": {},
   "source": [
    "### Query the Database"
   ]
  },
  {
   "cell_type": "code",
   "execution_count": 3,
   "metadata": {
    "collapsed": false
   },
   "outputs": [
    {
     "name": "stdout",
     "output_type": "stream",
     "text": [
      "Number of emails: 490706\n",
      "Number of non-null email bodies: 490245\n",
      "Number of non-null dates: 490245\n"
     ]
    }
   ],
   "source": [
    "#get total number of emails\n",
    "curs.execute('SELECT COUNT(*) FROM EMAIL')\n",
    "email_count = curs.fetchall()\n",
    "email_count = email_count[0]\n",
    "email_count = email_count[0]\n",
    "print('Number of emails:',email_count)\n",
    "\n",
    "#get number of non-null email bodies\n",
    "curs.execute('SELECT COUNT(*) FROM EMAIL WHERE LENGTH(EMAIL_BODY) != 0')\n",
    "body_count = curs.fetchall()\n",
    "body_count = body_count[0][0]\n",
    "print('Number of non-null email bodies:',body_count)\n",
    "\n",
    "#get dates from emails\n",
    "curs.execute('SELECT COUNT(*) FROM EMAIL WHERE DATE_SENT IS NOT NULL')\n",
    "dates = curs.fetchall()\n",
    "print('Number of non-null dates:',dates[0][0])\n",
    "\n",
    "curs.execute('SELECT * FROM (SELECT EMAIL_BODY FROM EMAIL ORDER BY DBMS_RANDOM.RANDOM) WHERE  rownum <= 5000\\\n",
    "            AND EMAIL_BODY IS NOT NULL')\n",
    "emails = []\n",
    "email = curs.fetchone()\n",
    "while email:\n",
    "    emails.append(email[0].read())\n",
    "    try:\n",
    "        email = curs.fetchone()\n",
    "    except Error:\n",
    "        email = None"
   ]
  },
  {
   "cell_type": "code",
   "execution_count": 4,
   "metadata": {
    "collapsed": false,
    "scrolled": true
   },
   "outputs": [
    {
     "name": "stdout",
     "output_type": "stream",
     "text": [
      "[' Debra, For clarification, the cp s collateral threshold should be $0.00 instead of N/A.  sorry for any inconvenience. Tracy ---------------------- Forwarded by Tracy Ngo/PDX/ECT on 12/15/2000 08:45 AM --------------------------- Tracy Ngo 12/15/2000 07:34 AM To: Debra Perlingiere/HOU/ECT@ECT cc: Dan J Hyvl/HOU/ECT@ECT, Dave Fuller/PDX/ECT@ECT, Jason R Williams/NA/Enron@ENRON, Edward Sacks/Corp/Enron@Enron, Wendy Conwell/NA/Enron@ENRON, Veronica Espinoza/Corp/Enron@ENRON, Russell Diamond/HOU/ECT@ECT, William S Bradford/HOU/ECT@ECT Subject: Oregon Steel Mills, Inc. Debra, Attached please find a credit worksheet for a draft Master Firm Purchase and Sale Agreement between Enron North America Corp. and Oregon Steel Mills, Inc.  Please call w/any questions.  Jay Williams in Credit for Gas will be the lead credit contact on this relationship. Regards, Tracy 503-464-8755', ' ----- Forwarded by Susan J Mara/NA/Enron on 11/01/2000 11:29 AM ----- US Publishing <season@restructuringtoday.com> 11/01/2000 10:26 AM Please respond to season To: \"RT Reader\" <season@restructuringtoday.com> cc: Subject: Special Bulletin (see attached file:  bulletin.pdf) Thank you, Season Hawksley US Publishing 1-800-486-8201 www.restructuringtoday.com season@restructuringtoday.com - bulletin.pdf', ' Dear Jeff, For decades, reformers have promised to improve the public schools, but recent newspaper headlines show that many schools have gotten worse: * \"Threshold lowered on exit exams -- State OKs high school standard below what was originally proposed\" * \" Abysmal  exit test results for 9th-graders -- Most flunk if 70% is a passing grade\" * \"Small wars plague the schools -- Teachers, district, mayor embroiled\" * \"Schools Add Security in Reaction to Violence\" Why have efforts to improve the public school system been such failures? Which reforms are more likely to overcome the political obstacles to improve education? Which reforms best ensure that schools will be held accountable to parents? Which reform proposals have the greatest potential for fostering educational excellence? To explore these and related question, the Independent Policy Forum will feature two noted education experts: Richard Vedder (author, CAN TEACHERS OWN THEIR OWN SCHOOLS?) and John Merrifield (author, THE SCHOOL CHOICE WARS). The program will be held the evening of Thursday, July 5th, from 6:30 to 8:30 p.m., at the Independent Institute s conference center in Oakland, California. For your review, I am adding below an invitation with further details on the program. Because seating is limited, please make your reservations as soon as possible.  For further information, please contact me or the Institute s Events Coordinator, Ms. Nichelle Beardsley, at 510-632-1366 x118. We hope to see you on July 5th. Sincerely, David J. Theroux Founder and President The Independent Institute 100 Swan Way Oakland, CA 95621-1428 510-632-1366 Phone 510-568-6040 Fax DTheroux@independent.org http://www.independent.org * * * * * * * * * * * * * * * * * * * * WHY ARE THE PUBLIC SCHOOLS FAILING AND WHAT CAN BE DONE? - Next Independent Policy Forum (July 5, 2001) American children learn less than they did 30 years ago, and even where there are signs of improvement, they are small. Many high school graduates -- 90 percent of whom attended government-operated public schools -- lack the skills needed in today s knowledge-intensive workplace. Further, many students fail to graduate. (The dropout rate in California is 32 percent overall, and 45 percent for immigrants.) Parents and educators have long recognized the shortcomings of the public school system, but their efforts to reform it have failed. Are school vouchers and charter schools the answer? What about teacher-owned schools? What other reforms might make schools more innovative and accountable to parents? Please join us as education experts RICHARD VEDDER and JOHN MERRIFIELD examine new strategies for achieving educational excellence. SPEAKERS: -- RICHARD VEDDER, Senior Fellow, The Independent Institute; Professor of Economics, Ohio University; author, CAN TEACHERS OWN THEIR OWN SCHOOLS? -- JOHN MERRIFIELD, Senior Research Associate; The Education Policy Institute; Professor of Economics, University of Texas, San Antonio; author, THE SCHOOL CHOICE WARS WHEN: Thursday, July 5, 2001 Reception and book signing: 6:30 p.m. Program: 7:00 - 8:30 p.m. WHERE: The Independent Institute Conference Center 100 Swan Way Oakland, CA 94621-1428 For a map and directions, see http://www.independent.org/tii/tii_info/about.html#map TICKETS: $30.00 per person: includes one copy of Richard Vedder s book, CAN TEACHERS OWN THEIR OWN SCHOOLS?, OR John Merrifield s book, THE SCHOOL CHOICE WARS, OR admission without a book is $10 per person ($7 for Independent Institute Associate Members) Praise for Richard Vedder s book, CAN TEACHERS OWN THEIR OWN SCHOOLS? \"Vedder suggests for-profit schools owned and operated by teachers and school administrators would offer a promising alternative to the present public school system.\" -- SCHOOL REFORM NEWS \"Nobody yet has found a foolproof formula for revitalizing American K-12 education. So let s be humble enough -- and empirical enough -- to try as many tantalizing approaches as we can. In that spirit, I comme']\n"
     ]
    }
   ],
   "source": [
    "print(emails[:3])"
   ]
  },
  {
   "cell_type": "code",
   "execution_count": 29,
   "metadata": {
    "collapsed": false
   },
   "outputs": [],
   "source": [
    "#clean text data for wordcloud\n",
    "from nltk.tokenize import word_tokenize\n",
    "from nltk.stem import LancasterStemmer\n",
    "from stop_words import get_stop_words\n",
    "import re\n",
    "\n",
    "stops = get_stop_words('en')\n",
    "stemmer = LancasterStemmer()\n",
    "\n",
    "cleaned_emails = []\n",
    "\n",
    "for email in emails:\n",
    "    \n",
    "    #clean out urls, special characters, etc\n",
    "    email = re.sub('(^\\s)+@(^\\s)\\.(^s)', \" \", email)\n",
    "    email = re.sub('\\d+', ' ', email)\n",
    "    email = re.sub('\\'(s)?', ' ', email)\n",
    "    email = re.sub('http(^\\s)+', ' ', email)\n",
    "    email = re.sub('www\\.(^\\s)\\.com', ' ', email)\n",
    "    email = re.sub('^[a-zA-Z]', ' ', email)\n",
    "    \n",
    "    #tokenize, stem, reassemble\n",
    "    tokens = word_tokenize(email)\n",
    "    clean_str = ''\n",
    "    for token in tokens:\n",
    "        if token not in stops:\n",
    "            clean_str += stemmer.stem(token) + ' '\n",
    "            \n",
    "    cleaned_emails.append(clean_str)\n",
    "    "
   ]
  },
  {
   "cell_type": "code",
   "execution_count": 30,
   "metadata": {
    "collapsed": true
   },
   "outputs": [],
   "source": [
    "%matplotlib inline"
   ]
  },
  {
   "cell_type": "code",
   "execution_count": 31,
   "metadata": {
    "collapsed": true
   },
   "outputs": [],
   "source": [
    "#visualize time series of dates\n",
    "import matplotlib.pyplot as plt"
   ]
  },
  {
   "cell_type": "code",
   "execution_count": 32,
   "metadata": {
    "collapsed": false
   },
   "outputs": [
    {
     "name": "stdout",
     "output_type": "stream",
     "text": [
      "/Users/cynthia.vint/Desktop/BU MET CS 779/final_project\n"
     ]
    }
   ],
   "source": [
    "cd /Users/cynthia.vint/Desktop/BU\\ MET\\ CS\\ 779/final_project"
   ]
  },
  {
   "cell_type": "code",
   "execution_count": 33,
   "metadata": {
    "collapsed": false,
    "scrolled": true
   },
   "outputs": [
    {
     "data": {
      "image/png": "[encoded data removed]",
      "text/plain": [
       "<matplotlib.figure.Figure at 0x22dd744a8>"
      ]
     },
     "metadata": {},
     "output_type": "display_data"
    },
    {
     "data": {
      "image/png": "[encoded data removed]",
      "text/plain": [
       "<matplotlib.figure.Figure at 0x22dd8ab38>"
      ]
     },
     "metadata": {},
     "output_type": "display_data"
    }
   ],
   "source": [
    "# Simple Word Cloud\n",
    "from PIL import Image\n",
    "from wordcloud import WordCloud, STOPWORDS\n",
    "import numpy as np\n",
    "\n",
    "#combine emails into single text\n",
    "combined_email = ''\n",
    "for email in cleaned_emails:\n",
    "    combined_email += ' ' + email\n",
    "    \n",
    "#download enron image\n",
    "#enron_mask = np.array(Image.open('Enron_logo.png'))\n",
    "\n",
    "wc = WordCloud(background_color=\"white\", max_words=2000, \n",
    "               stopwords=stops)\n",
    "\n",
    "# generate word cloud\n",
    "wc.generate(combined_email)\n",
    "\n",
    "# show\n",
    "plt.imshow(wc)\n",
    "plt.axis(\"off\")\n",
    "plt.figure()\n",
    "#plt.imshow(enron_mask, cmap=plt.cm.gray)\n",
    "plt.axis(\"off\")\n",
    "plt.show()"
   ]
  },
  {
   "cell_type": "code",
   "execution_count": 34,
   "metadata": {
    "collapsed": false
   },
   "outputs": [],
   "source": [
    "#get top 10 email writers\n",
    "\n",
    "curs.execute('SELECT FOLDER.PERSON_HANDLE, COUNT(*) AS NUM_EMAILS\\\n",
    "            FROM FOLDER JOIN EMAIL ON EMAIL.FOLDER_ID = FOLDER.FOLDER_ID\\\n",
    "            GROUP BY FOLDER.PERSON_HANDLE\\\n",
    "            ORDER BY NUM_EMAILS DESC FETCH FIRST 10 ROWS ONLY')\n",
    "\n",
    "top_ten = curs.fetchall()"
   ]
  },
  {
   "cell_type": "code",
   "execution_count": 35,
   "metadata": {
    "collapsed": false
   },
   "outputs": [],
   "source": [
    "top_ten = dict(top_ten)"
   ]
  },
  {
   "cell_type": "code",
   "execution_count": 36,
   "metadata": {
    "collapsed": false
   },
   "outputs": [
    {
     "data": {
      "image/png": "[encoded data removed]",
      "text/plain": [
       "<matplotlib.figure.Figure at 0x22dd92da0>"
      ]
     },
     "metadata": {},
     "output_type": "display_data"
    }
   ],
   "source": [
    "fig, ax = plt.subplots()\n",
    "\n",
    "index = list(range(len(top_ten.values())))\n",
    "bar_width = 0.5\n",
    "\n",
    "labels = top_ten.keys()\n",
    "\n",
    "opacity = 0.8\n",
    "\n",
    "rects = plt.bar(index, top_ten.values(),alpha=opacity,\\\n",
    "                 color='cornflowerblue')\n",
    "\n",
    "plt.xlabel('Person Username')\n",
    "plt.xticks(index, labels, rotation='vertical',fontsize=8, ha='left')\n",
    "plt.ylabel('Number of Emails')\n",
    "plt.title('Top 10 Email Senders')\n",
    "\n",
    "plt.show()"
   ]
  },
  {
   "cell_type": "code",
   "execution_count": 5,
   "metadata": {
    "collapsed": true
   },
   "outputs": [],
   "source": [
    "#example time series analysis\n",
    "curs.execute('SELECT EMAIL.DATE_SENT FROM EMAIL JOIN FOLDER \\\n",
    "            ON EMAIL.FOLDER_ID = FOLDER.FOLDER_ID \\\n",
    "            JOIN PERSON ON PERSON.HANDLE = FOLDER.PERSON_HANDLE \\\n",
    "            WHERE FOLDER.PERSON_HANDLE = \\'dasovich-j\\' AND EMAIL.DATE_SENT IS NOT NULL')\n",
    "\n",
    "dasovich_dates = curs.fetchall()\n",
    "dasovich_dates = [date[0] for date in dasovich_dates]"
   ]
  },
  {
   "cell_type": "code",
   "execution_count": 24,
   "metadata": {
    "collapsed": true
   },
   "outputs": [],
   "source": [
    "con.commit()"
   ]
  },
  {
   "cell_type": "code",
   "execution_count": 170,
   "metadata": {
    "collapsed": false
   },
   "outputs": [],
   "source": [
    "con.close()"
   ]
  },
  {
   "cell_type": "markdown",
   "metadata": {},
   "source": [
    "### Future Directions"
   ]
  },
  {
   "cell_type": "markdown",
   "metadata": {
    "collapsed": true
   },
   "source": [
    "I intend to utilize this database to show how it can easily facilitate the reproduction of other research projects on the same dataset, such as the one at [Berkeley](https://www.stat.berkeley.edu/~aldous/Research/Ugrad/HarishKumarReport.pdf) by Harish Kumar Palaniswamy.\n",
    "\n",
    "Also, using this database, I hope to provide the tools to build further on Analytical research, such as in the field of Human Resources research, in which email activity reveals a lot of information about human behavior and networking in the workplace."
   ]
  },
  {
   "cell_type": "code",
   "execution_count": null,
   "metadata": {
    "collapsed": true
   },
   "outputs": [],
   "source": []
  }
 ],
 "metadata": {
  "anaconda-cloud": {},
  "kernelspec": {
   "display_name": "Python [conda root]",
   "language": "python",
   "name": "conda-root-py"
  },
  "language_info": {
   "codemirror_mode": {
    "name": "ipython",
    "version": 3
   },
   "file_extension": ".py",
   "mimetype": "text/x-python",
   "name": "python",
   "nbconvert_exporter": "python",
   "pygments_lexer": "ipython3",
   "version": "3.5.2"
  }
 },
 "nbformat": 4,
 "nbformat_minor": 1
}
